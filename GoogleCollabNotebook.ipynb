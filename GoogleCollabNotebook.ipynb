{
  "nbformat": 4,
  "nbformat_minor": 0,
  "metadata": {
    "colab": {
      "provenance": []
    },
    "kernelspec": {
      "name": "python3",
      "display_name": "Python 3"
    },
    "language_info": {
      "name": "python"
    }
  },
  "cells": [
    {
      "cell_type": "markdown",
      "source": [
        "Copy the repo code to the machine. If you have to reclone the repo remove all the files and run the command."
      ],
      "metadata": {
        "id": "tNGYfS7Z13P0"
      }
    },
    {
      "cell_type": "code",
      "execution_count": null,
      "metadata": {
        "id": "EWj5V0nf0ABx"
      },
      "outputs": [],
      "source": [
        "!git clone https://github.com/Yorzaren/graphminors"
      ]
    },
    {
      "cell_type": "markdown",
      "source": [
        "Change directories"
      ],
      "metadata": {
        "id": "J4nCLHdPBqLY"
      }
    },
    {
      "cell_type": "code",
      "source": [
        "cd graphminors/"
      ],
      "metadata": {
        "id": "lCjatqozBvog"
      },
      "execution_count": null,
      "outputs": []
    },
    {
      "cell_type": "markdown",
      "source": [
        "Check that you are in the right place with an ls. You should see Examples, Graphs, main.py,etc."
      ],
      "metadata": {
        "id": "bmOwvXeVB8fP"
      }
    },
    {
      "cell_type": "code",
      "source": [
        "ls"
      ],
      "metadata": {
        "id": "XgylrslHB2eW"
      },
      "execution_count": null,
      "outputs": []
    },
    {
      "cell_type": "markdown",
      "source": [
        "Install dependencies"
      ],
      "metadata": {
        "id": "V0CWRJpo1-oI"
      }
    },
    {
      "cell_type": "code",
      "source": [
        "!pip install -r requirements.txt"
      ],
      "metadata": {
        "id": "MpZv_72S0Kea"
      },
      "execution_count": null,
      "outputs": []
    },
    {
      "cell_type": "markdown",
      "source": [
        "Run the code"
      ],
      "metadata": {
        "id": "-S3acxDU2A4A"
      }
    },
    {
      "cell_type": "code",
      "source": [
        "!python run_script.py \"Graphs/mixedtest2.txt\" \"Graphs/forbidden_minors_planar_graphs.txt\" --output-with \"graphswithminors.txt\" --output-without \"graphswithoutminors.txt\""
      ],
      "metadata": {
        "id": "0-UEvulnDJRA"
      },
      "execution_count": null,
      "outputs": []
    }
  ]
}